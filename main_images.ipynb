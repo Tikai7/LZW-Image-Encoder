{
 "cells": [
  {
   "cell_type": "markdown",
   "metadata": {},
   "source": [
    "Import"
   ]
  },
  {
   "cell_type": "code",
   "execution_count": null,
   "metadata": {},
   "outputs": [],
   "source": [
    "import cv2\n",
    "import matplotlib.pyplot as plt\n",
    "import numpy as np\n",
    "import pickle\n"
   ]
  },
  {
   "cell_type": "markdown",
   "metadata": {},
   "source": [
    "Utilities"
   ]
  },
  {
   "cell_type": "code",
   "execution_count": null,
   "metadata": {},
   "outputs": [],
   "source": [
    "def save_with_pickle(compressed_input,filename):\n",
    "    pickle_out = open(filename+\"_compressed\",\"wb\")\n",
    "    pickle.dump(compressed_input,pickle_out)\n",
    "\n",
    "\n",
    "def get_with_pickle(filename):\n",
    "    compressed_image = pickle.load(open(filename, \"rb\"))\n",
    "    print(filename)\n",
    "    return compressed_image"
   ]
  },
  {
   "cell_type": "markdown",
   "metadata": {},
   "source": [
    "LZW Encodeur"
   ]
  },
  {
   "cell_type": "code",
   "execution_count": null,
   "metadata": {},
   "outputs": [],
   "source": [
    "def LZW_Encode(pixels_input):\n",
    "    \n",
    "    DICT_SIZE = 256\n",
    "    SET_INPUT = set(pixels_input)\n",
    "    DICTIONNARY_LZW = {}\n",
    "\n",
    "    encoded_image = []\n",
    "    \n",
    "    for pixels in SET_INPUT:\n",
    "        DICTIONNARY_LZW[str(pixels).zfill(3)]=pixels\n",
    "\n",
    "    word = \"\"\n",
    "\n",
    "    for pixels in pixels_input:\n",
    "        pixels = str(pixels).zfill(3) # on convertit le pixels en str pour le concatener\n",
    "        word_k = word+pixels # wk = w+k\n",
    "\n",
    "        # --- si la sequence est dans le dictionnaire on ajoute conitnue de chercher une sequence + grande\n",
    "        if word_k in DICTIONNARY_LZW:\n",
    "            word = word_k\n",
    "\n",
    "        # --- sinon on ajoute l'ancienne sequence et on ajoute la sequence courante au dico\n",
    "        else:\n",
    "            encoded_image.append(DICTIONNARY_LZW[word])\n",
    "            DICTIONNARY_LZW[word_k]=DICT_SIZE\n",
    "            DICT_SIZE+=1\n",
    "            word = pixels\n",
    "            \n",
    "    # --- on verifie qu'il reste plus aucune sequence a ajouter\n",
    "    if word != \"\":\n",
    "        encoded_image.append(DICTIONNARY_LZW[word])\n",
    "    \n",
    "    return encoded_image"
   ]
  },
  {
   "cell_type": "markdown",
   "metadata": {},
   "source": [
    "LZW Decodeur"
   ]
  },
  {
   "cell_type": "code",
   "execution_count": null,
   "metadata": {},
   "outputs": [],
   "source": [
    "def LZW_Decode(encoded_pixels,width,height):\n",
    "\n",
    "    DICT_SIZE = 256\n",
    "    DICTIONNARY_LZW = {}\n",
    "    decoded_pixels = []\n",
    "\n",
    "    # --- on crée un dicitionnaire de toutes les valeurs de pixels possible avec comme valeur\n",
    "    # --- ecrit sur 3 bits\n",
    "    for i in range(DICT_SIZE):\n",
    "        DICTIONNARY_LZW[str(i)]=str(i).zfill(3)\n",
    "\n",
    "\n",
    "    # --- on prend la valeur du premier caractere encodé\n",
    "    previous = str(encoded_pixels[0]).zfill(3)\n",
    "    encoded_pixels  = encoded_pixels[1:]\n",
    "\n",
    "    # --- on le decode\n",
    "    decoded_pixels.append(previous)\n",
    "\n",
    "    for pixels in encoded_pixels:\n",
    "\n",
    "        pixels = str(pixels) # --- on convertit le pixels en string\n",
    "        pre_output = \"\"\n",
    "\n",
    "        if pixels in DICTIONNARY_LZW: # --- si le pixel est dans le dico on decode sa valeur\n",
    "            pre_output = DICTIONNARY_LZW[pixels]\n",
    "        else :\n",
    "            pre_output = previous.zfill(3)+previous[:3] # --- sinon on suppose que ça valeur égale a ça\n",
    "\n",
    "        # --- on ajoute la valeur decodé au message\n",
    "        decoded_pixels.append(pre_output)\n",
    "        # --- on ajoute l'ancienne sequence et le premier pixel de la nouvelle\n",
    "        DICTIONNARY_LZW[str(DICT_SIZE)] = previous.zfill(3)+pre_output[:3]\n",
    "        DICT_SIZE += 1\n",
    "        previous = pre_output\n",
    "    \n",
    "    decoded_image = []\n",
    "\n",
    "    # --- on parcours les valeurs décodé on on les decomposes sur 3 caracteres pour les convertirs ensuite\n",
    "    for value in decoded_pixels:\n",
    "        for i in range(0,len(value),3):\n",
    "            decoded_image.append(value[i:i+3])\n",
    "\n",
    "\n",
    "    decoded_image = [int(x) for x in decoded_image]\n",
    "\n",
    "    image = np.array(decoded_image)\n",
    "    print(len(image))\n",
    "\n",
    "    image = image.reshape(width,height)\n",
    "\n",
    "    return image"
   ]
  },
  {
   "cell_type": "markdown",
   "metadata": {},
   "source": [
    "Main"
   ]
  },
  {
   "cell_type": "code",
   "execution_count": null,
   "metadata": {},
   "outputs": [],
   "source": [
    "def MainLZW():\n",
    "    liste_images = [\n",
    "        \"image_1.bmp\",\n",
    "        \"image_2.bmp\",\n",
    "        \"image_3.bmp\",\n",
    "\n",
    "        \"binary_random1.png\",\n",
    "        \"binary_cablecar1.bmp\",\n",
    "\n",
    "        \"image_4.png\", # en niveau de gris\n",
    "        \"cablecar.bmp\" # en niveau de gris\n",
    "    ]\n",
    "\n",
    "    for files in liste_images:\n",
    "\n",
    "        image_tp_4 = cv2.imread(files, 0)\n",
    "        width,height = image_tp_4.shape\n",
    "\n",
    "        print(\"\\n----------- Image -----------\\n\")\n",
    "        plt.imshow(image_tp_4)\n",
    "        plt.show()\n",
    "        print(\"----------- ***** -----------\\n\")\n",
    "\n",
    "        # --- Applatir l'image\n",
    "        string_image = image_tp_4.flatten().tolist()\n",
    "        # --- Image compressé\n",
    "        compressed_image = LZW_Encode(string_image)\n",
    "\n",
    "        # --- Sauvegarder l'image avec Pickle\n",
    "        save_with_pickle(compressed_image,files)\n",
    "        # --- Taux de compression\n",
    "\n",
    "        compression_rate = (1-(len(compressed_image)/2)/len(string_image))*100\n",
    "        print(f\"Taux de compression : {compression_rate}\")\n",
    "\n",
    "        compressed_image = get_with_pickle(f\"{files}_compressed\")\n",
    "        decompressed_image = LZW_Decode(compressed_image,int(width),int(height))\n",
    "\n",
    "        print(\"----------- Image-Décodé -----------\\n\")\n",
    "        plt.imshow(decompressed_image)\n",
    "        plt.show()\n",
    "        print(\"----------- ************ -----------\\n\")\n",
    "\n",
    "        # ---- on calcule la différence\n",
    "        var = np.count_nonzero(image_tp_4-decompressed_image)\n",
    "        print(f\"Soustraction des deux images : \\n{var}\")"
   ]
  },
  {
   "cell_type": "markdown",
   "metadata": {},
   "source": [
    "Programme"
   ]
  },
  {
   "cell_type": "code",
   "execution_count": null,
   "metadata": {},
   "outputs": [],
   "source": [
    "MainLZW()"
   ]
  }
 ],
 "metadata": {
  "kernelspec": {
   "display_name": "Python 3.8.4rc1 64-bit",
   "language": "python",
   "name": "python3"
  },
  "language_info": {
   "codemirror_mode": {
    "name": "ipython",
    "version": 3
   },
   "file_extension": ".py",
   "mimetype": "text/x-python",
   "name": "python",
   "nbconvert_exporter": "python",
   "pygments_lexer": "ipython3",
   "version": "3.8.4rc1"
  },
  "orig_nbformat": 4,
  "vscode": {
   "interpreter": {
    "hash": "e33dda8a4d12c9c36a233218a905238da2bb40652a11ab3365bb0fe0ea2bff9b"
   }
  }
 },
 "nbformat": 4,
 "nbformat_minor": 2
}
